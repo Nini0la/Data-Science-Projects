{
 "cells": [
  {
   "cell_type": "code",
   "execution_count": 6,
   "metadata": {},
   "outputs": [
    {
     "data": {
      "text/plain": [
       "True"
      ]
     },
     "execution_count": 6,
     "metadata": {},
     "output_type": "execute_result"
    }
   ],
   "source": [
    "# importing all required libraries\n",
    "\n",
    "import pandas as pd\n",
    "import numpy as np\n",
    "import requests\n",
    "import os\n",
    "\n",
    "import matplotlib.pyplot as plt\n",
    "import seaborn as sns\n",
    "%matplotlib inline\n",
    "\n",
    "import tweepy\n",
    "import time\n",
    "import json\n",
    "import csv\n",
    "\n",
    "# install python-dotenv for this\n",
    "from dotenv import load_dotenv\n",
    "#Reading access keys from .env \n",
    "load_dotenv()"
   ]
  },
  {
   "cell_type": "code",
   "execution_count": 7,
   "metadata": {},
   "outputs": [],
   "source": [
    "#access keys for twitter\n",
    "consumer_key = os.getenv('API_KEY')\n",
    "consumer_secret = os.getenv('API_SECRET_KEY')\n",
    "access_token = os.getenv('ACCESS_TOKEN')\n",
    "access_secret = os.getenv('ACCESS_SECRET_TOKEN')\n"
   ]
  },
  {
   "cell_type": "code",
   "execution_count": 8,
   "metadata": {},
   "outputs": [],
   "source": [
    "auth = tweepy.OAuthHandler(consumer_key, consumer_secret)\n",
    "auth.set_access_token(access_token, access_secret)\n",
    "api = tweepy.API(auth, wait_on_rate_limit=True)"
   ]
  },
  {
   "cell_type": "markdown",
   "metadata": {},
   "source": [
    "#### DEBUGGING START"
   ]
  },
  {
   "cell_type": "code",
   "execution_count": 26,
   "metadata": {},
   "outputs": [
    {
     "data": {
      "text/plain": [
       "tweepy.models.ResultSet"
      ]
     },
     "execution_count": 26,
     "metadata": {},
     "output_type": "execute_result"
    }
   ],
   "source": [
    "user = api.get_user(screen_name='svpino')\n",
    "# print(user.screen_name)\n",
    "# for friend in user.friends():\n",
    "#        print(friend.screen_name)\n",
    "type(user.friends())"
   ]
  },
  {
   "cell_type": "code",
   "execution_count": 9,
   "metadata": {},
   "outputs": [
    {
     "data": {
      "text/plain": [
       "'@MBuhari Dear @MBuhari  please we need your help regarding MTN / Glo / Airtel and all other Telecommunications Serv… https://t.co/avrNpVIfPT'"
      ]
     },
     "execution_count": 9,
     "metadata": {},
     "output_type": "execute_result"
    }
   ],
   "source": [
    "#access tweet with username and tweet id\n",
    "\n",
    "# name = 'ElizabethOf_'\n",
    "# id = \"1488579454058250242\"\n",
    "# replies = []\n",
    "\n",
    "# name = 'timigod'\n",
    "# id = \"1483151428709498880\"\n",
    "# replies = []\n",
    "\n",
    "\n",
    "# name = 'skweird'\n",
    "# id = \"1489163967767404549\"\n",
    "# replies = []\n",
    "\n",
    "# name = 'svpino'\n",
    "# id = \"1477384132007235587\"\n",
    "# replies = []\n",
    "\n",
    "# name = 'haltakov'\n",
    "# id = \"1488228165830983683\"\n",
    "# replies = []\n",
    "\n",
    "# name = 'Nini0la'\n",
    "# id = \"1323168000254578689\" #1323168000254578689 \"1364534842386432000\"\n",
    "# replies = []\n",
    "\n",
    "# name = 'Oyinda_DS'\n",
    "# id = \"1488177166382678019\" \n",
    "# replies = []\n",
    "\n",
    "# name = 'TheOyinbooke'\n",
    "# id = \"1483604994364424194\" \n",
    "# replies = []\n",
    "\n",
    "# name = 'Princesss_ORB'\n",
    "# id = \"1487172200478265360\" \n",
    "# replies = []\n",
    "\n",
    "name = 'MBuhari'\n",
    "id = \"1100797066391867392\" \n",
    "replies = []\n",
    "\n",
    "# name = 'GoogleAI'\n",
    "# id = \"1487135339000913920\" \n",
    "# replies = []\n",
    "\n",
    "\n",
    "\n",
    "for tweet in tweepy.Cursor(api.search_tweets, q='to:'+name).items(1000):\n",
    "    if hasattr(tweet, 'in_reply_to_status_id_str'):\n",
    "        if (tweet.in_reply_to_status_id_str==id):\n",
    "            replies.append(tweet)\n",
    "            \n",
    "replies[0].text"
   ]
  },
  {
   "cell_type": "code",
   "execution_count": 81,
   "metadata": {},
   "outputs": [
    {
     "data": {
      "text/plain": [
       "30"
      ]
     },
     "execution_count": 81,
     "metadata": {},
     "output_type": "execute_result"
    }
   ],
   "source": [
    "# replies[0].text\n",
    "len(replies)\n"
   ]
  },
  {
   "cell_type": "markdown",
   "metadata": {},
   "source": [
    "#### DEBUGGING END [not finished]"
   ]
  },
  {
   "cell_type": "code",
   "execution_count": 22,
   "metadata": {},
   "outputs": [],
   "source": [
    "with open('replies.csv', 'w') as f:\n",
    "    csv_writer = csv.DictWriter(f, fieldnames=('user_name', 'name','date', 'response'))\n",
    "    csv_writer.writeheader()\n",
    "    for tweet in replies:\n",
    "        row = {'user_name': tweet.user.screen_name, 'name': tweet.user.name, 'date': tweet.created_at,'response': tweet.text.replace('\\n', ' ')}\n",
    "        csv_writer.writerow(row)"
   ]
  },
  {
   "cell_type": "code",
   "execution_count": 46,
   "metadata": {},
   "outputs": [
    {
     "data": {
      "text/html": [
       "<div>\n",
       "<style scoped>\n",
       "    .dataframe tbody tr th:only-of-type {\n",
       "        vertical-align: middle;\n",
       "    }\n",
       "\n",
       "    .dataframe tbody tr th {\n",
       "        vertical-align: top;\n",
       "    }\n",
       "\n",
       "    .dataframe thead th {\n",
       "        text-align: right;\n",
       "    }\n",
       "</style>\n",
       "<table border=\"1\" class=\"dataframe\">\n",
       "  <thead>\n",
       "    <tr style=\"text-align: right;\">\n",
       "      <th></th>\n",
       "      <th>user_name</th>\n",
       "      <th>name</th>\n",
       "      <th>date</th>\n",
       "      <th>response</th>\n",
       "    </tr>\n",
       "  </thead>\n",
       "  <tbody>\n",
       "    <tr>\n",
       "      <th>0</th>\n",
       "      <td>scriptedbaker</td>\n",
       "      <td>JOHNSON ELIZABETH</td>\n",
       "      <td>2022-02-01 19:06:57+00:00</td>\n",
       "      <td>@ElizabethOf_ @Fatbabe25 My sister! let Jesus ...</td>\n",
       "    </tr>\n",
       "    <tr>\n",
       "      <th>1</th>\n",
       "      <td>ElizabethOf_</td>\n",
       "      <td>Lizzy</td>\n",
       "      <td>2022-02-01 18:42:29+00:00</td>\n",
       "      <td>@Fatbabe25 @scriptedbaker To travel now and se...</td>\n",
       "    </tr>\n",
       "    <tr>\n",
       "      <th>2</th>\n",
       "      <td>Fatbabe25</td>\n",
       "      <td>MFJPM</td>\n",
       "      <td>2022-02-01 18:28:28+00:00</td>\n",
       "      <td>@ElizabethOf_ @scriptedbaker What plan? Don't ...</td>\n",
       "    </tr>\n",
       "  </tbody>\n",
       "</table>\n",
       "</div>"
      ],
      "text/plain": [
       "       user_name               name                       date  \\\n",
       "0  scriptedbaker  JOHNSON ELIZABETH  2022-02-01 19:06:57+00:00   \n",
       "1   ElizabethOf_              Lizzy  2022-02-01 18:42:29+00:00   \n",
       "2      Fatbabe25              MFJPM  2022-02-01 18:28:28+00:00   \n",
       "\n",
       "                                            response  \n",
       "0  @ElizabethOf_ @Fatbabe25 My sister! let Jesus ...  \n",
       "1  @Fatbabe25 @scriptedbaker To travel now and se...  \n",
       "2  @ElizabethOf_ @scriptedbaker What plan? Don't ...  "
      ]
     },
     "execution_count": 46,
     "metadata": {},
     "output_type": "execute_result"
    }
   ],
   "source": [
    "a=pd.read_csv('replies.csv')\n",
    "a"
   ]
  },
  {
   "cell_type": "code",
   "execution_count": 24,
   "metadata": {},
   "outputs": [],
   "source": [
    "with open('tweet_json.txt', 'w') as file:\n",
    "    for reply in replies:   \n",
    "        json.dump(tweet._json, file)\n",
    "        file.write('\\n')\n",
    "\n",
    "\n"
   ]
  },
  {
   "cell_type": "code",
   "execution_count": 44,
   "metadata": {},
   "outputs": [],
   "source": [
    "jsondf = []\n",
    "\n",
    "with open('tweet_json.txt', 'r') as json_f:\n",
    "    for line in json_f:\n",
    "        json_data  = json.loads(line)\n",
    "        jsondf.append({'tweet_id' : json_data['in_reply_to_status_id_str'],\n",
    "                       #'user_name' : json_data['scrren_name'],\n",
    "                       'response' : json_data['text'],\n",
    "                       'date':json_data['created_at']})\n",
    "        \n",
    "        \n",
    "api_df = pd.DataFrame(jsondf, columns=['tweet_id', 'user_name', 'response', 'date'])"
   ]
  },
  {
   "cell_type": "code",
   "execution_count": 45,
   "metadata": {},
   "outputs": [
    {
     "data": {
      "text/html": [
       "<div>\n",
       "<style scoped>\n",
       "    .dataframe tbody tr th:only-of-type {\n",
       "        vertical-align: middle;\n",
       "    }\n",
       "\n",
       "    .dataframe tbody tr th {\n",
       "        vertical-align: top;\n",
       "    }\n",
       "\n",
       "    .dataframe thead th {\n",
       "        text-align: right;\n",
       "    }\n",
       "</style>\n",
       "<table border=\"1\" class=\"dataframe\">\n",
       "  <thead>\n",
       "    <tr style=\"text-align: right;\">\n",
       "      <th></th>\n",
       "      <th>tweet_id</th>\n",
       "      <th>user_name</th>\n",
       "      <th>response</th>\n",
       "      <th>date</th>\n",
       "    </tr>\n",
       "  </thead>\n",
       "  <tbody>\n",
       "    <tr>\n",
       "      <th>0</th>\n",
       "      <td>1488579454058250242</td>\n",
       "      <td>NaN</td>\n",
       "      <td>@ElizabethOf_ @scriptedbaker What plan? Don't ...</td>\n",
       "      <td>Tue Feb 01 18:28:28 +0000 2022</td>\n",
       "    </tr>\n",
       "    <tr>\n",
       "      <th>1</th>\n",
       "      <td>1488579454058250242</td>\n",
       "      <td>NaN</td>\n",
       "      <td>@ElizabethOf_ @scriptedbaker What plan? Don't ...</td>\n",
       "      <td>Tue Feb 01 18:28:28 +0000 2022</td>\n",
       "    </tr>\n",
       "    <tr>\n",
       "      <th>2</th>\n",
       "      <td>1488579454058250242</td>\n",
       "      <td>NaN</td>\n",
       "      <td>@ElizabethOf_ @scriptedbaker What plan? Don't ...</td>\n",
       "      <td>Tue Feb 01 18:28:28 +0000 2022</td>\n",
       "    </tr>\n",
       "  </tbody>\n",
       "</table>\n",
       "</div>"
      ],
      "text/plain": [
       "              tweet_id  user_name  \\\n",
       "0  1488579454058250242        NaN   \n",
       "1  1488579454058250242        NaN   \n",
       "2  1488579454058250242        NaN   \n",
       "\n",
       "                                            response  \\\n",
       "0  @ElizabethOf_ @scriptedbaker What plan? Don't ...   \n",
       "1  @ElizabethOf_ @scriptedbaker What plan? Don't ...   \n",
       "2  @ElizabethOf_ @scriptedbaker What plan? Don't ...   \n",
       "\n",
       "                             date  \n",
       "0  Tue Feb 01 18:28:28 +0000 2022  \n",
       "1  Tue Feb 01 18:28:28 +0000 2022  \n",
       "2  Tue Feb 01 18:28:28 +0000 2022  "
      ]
     },
     "execution_count": 45,
     "metadata": {},
     "output_type": "execute_result"
    }
   ],
   "source": [
    "api_df"
   ]
  },
  {
   "cell_type": "code",
   "execution_count": 37,
   "metadata": {},
   "outputs": [
    {
     "data": {
      "text/plain": [
       "{'created_at': 'Tue Feb 01 18:28:28 +0000 2022',\n",
       " 'id': 1488580024445947906,\n",
       " 'id_str': '1488580024445947906',\n",
       " 'text': \"@ElizabethOf_ @scriptedbaker What plan? Don't annoy me pls 😩\",\n",
       " 'truncated': False,\n",
       " 'entities': {'hashtags': [],\n",
       "  'symbols': [],\n",
       "  'user_mentions': [{'screen_name': 'ElizabethOf_',\n",
       "    'name': 'Lizzy',\n",
       "    'id': 723824556083929088,\n",
       "    'id_str': '723824556083929088',\n",
       "    'indices': [0, 13]},\n",
       "   {'screen_name': 'scriptedbaker',\n",
       "    'name': 'JOHNSON ELIZABETH',\n",
       "    'id': 4804180933,\n",
       "    'id_str': '4804180933',\n",
       "    'indices': [14, 28]}],\n",
       "  'urls': []},\n",
       " 'metadata': {'iso_language_code': 'en', 'result_type': 'recent'},\n",
       " 'source': '<a href=\"http://twitter.com/download/iphone\" rel=\"nofollow\">Twitter for iPhone</a>',\n",
       " 'in_reply_to_status_id': 1488579454058250242,\n",
       " 'in_reply_to_status_id_str': '1488579454058250242',\n",
       " 'in_reply_to_user_id': 723824556083929088,\n",
       " 'in_reply_to_user_id_str': '723824556083929088',\n",
       " 'in_reply_to_screen_name': 'ElizabethOf_',\n",
       " 'user': {'id': 2274692722,\n",
       "  'id_str': '2274692722',\n",
       "  'name': 'MFJPM',\n",
       "  'screen_name': 'Fatbabe25',\n",
       "  'location': 'Looking for money boulevard ',\n",
       "  'description': 'Tough times are lasting.',\n",
       "  'url': None,\n",
       "  'entities': {'description': {'urls': []}},\n",
       "  'protected': False,\n",
       "  'followers_count': 270,\n",
       "  'friends_count': 661,\n",
       "  'listed_count': 3,\n",
       "  'created_at': 'Sat Jan 11 11:43:40 +0000 2014',\n",
       "  'favourites_count': 12328,\n",
       "  'utc_offset': None,\n",
       "  'time_zone': None,\n",
       "  'geo_enabled': False,\n",
       "  'verified': False,\n",
       "  'statuses_count': 52605,\n",
       "  'lang': None,\n",
       "  'contributors_enabled': False,\n",
       "  'is_translator': False,\n",
       "  'is_translation_enabled': False,\n",
       "  'profile_background_color': 'C0DEED',\n",
       "  'profile_background_image_url': 'http://abs.twimg.com/images/themes/theme1/bg.png',\n",
       "  'profile_background_image_url_https': 'https://abs.twimg.com/images/themes/theme1/bg.png',\n",
       "  'profile_background_tile': False,\n",
       "  'profile_image_url': 'http://pbs.twimg.com/profile_images/1488959293860761601/ZIGO7J1i_normal.jpg',\n",
       "  'profile_image_url_https': 'https://pbs.twimg.com/profile_images/1488959293860761601/ZIGO7J1i_normal.jpg',\n",
       "  'profile_banner_url': 'https://pbs.twimg.com/profile_banners/2274692722/1637002779',\n",
       "  'profile_link_color': '1DA1F2',\n",
       "  'profile_sidebar_border_color': 'C0DEED',\n",
       "  'profile_sidebar_fill_color': 'DDEEF6',\n",
       "  'profile_text_color': '333333',\n",
       "  'profile_use_background_image': True,\n",
       "  'has_extended_profile': True,\n",
       "  'default_profile': True,\n",
       "  'default_profile_image': False,\n",
       "  'following': True,\n",
       "  'follow_request_sent': False,\n",
       "  'notifications': False,\n",
       "  'translator_type': 'none',\n",
       "  'withheld_in_countries': []},\n",
       " 'geo': None,\n",
       " 'coordinates': None,\n",
       " 'place': None,\n",
       " 'contributors': None,\n",
       " 'is_quote_status': False,\n",
       " 'retweet_count': 0,\n",
       " 'favorite_count': 0,\n",
       " 'favorited': False,\n",
       " 'retweeted': False,\n",
       " 'lang': 'en'}"
      ]
     },
     "execution_count": 37,
     "metadata": {},
     "output_type": "execute_result"
    }
   ],
   "source": [
    "json_data\n"
   ]
  },
  {
   "cell_type": "code",
   "execution_count": null,
   "metadata": {},
   "outputs": [],
   "source": [
    "f (tweet.in_reply_to_status_id_str==id):\n",
    "    print(tweet.text)"
   ]
  },
  {
   "cell_type": "code",
   "execution_count": null,
   "metadata": {},
   "outputs": [],
   "source": []
  }
 ],
 "metadata": {
  "interpreter": {
   "hash": "b0fa6594d8f4cbf19f97940f81e996739fb7646882a419484c72d19e05852a7e"
  },
  "kernelspec": {
   "display_name": "Python 3.9.7 64-bit",
   "language": "python",
   "name": "python3"
  },
  "language_info": {
   "codemirror_mode": {
    "name": "ipython",
    "version": 3
   },
   "file_extension": ".py",
   "mimetype": "text/x-python",
   "name": "python",
   "nbconvert_exporter": "python",
   "pygments_lexer": "ipython3",
   "version": "3.7.4"
  },
  "orig_nbformat": 4
 },
 "nbformat": 4,
 "nbformat_minor": 2
}
